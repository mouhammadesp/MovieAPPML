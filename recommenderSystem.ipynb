{
 "cells": [
  {
   "cell_type": "markdown",
   "metadata": {},
   "source": [
    "Projet Machine learning\n",
    "\n",
    "\n",
    "Vous devez créer un système de recommandation de base en utilisant un ensemble de données provenant d'un service comme MovieLens:\n",
    "\n",
    "\n",
    "https://www.kaggle.com/datasets/grouplens/movielens-20m-dataset/data\n",
    "1. La première tâche est le système qui recommanderait des films aux utilisateurs en fonction de leurs notes précédentes. \n",
    "Cela permettrait de tester les techniques de factorisation matricielle, le traitement des données éparses et l'évaluation des systèmes de recommandation.\n",
    "\n",
    "\n",
    "2. La seconde tâche est de faire un modèle permettant de prédire la note d'un film\n",
    "\n",
    "\n",
    "\n",
    "\n"
   ]
  },
  {
   "cell_type": "markdown",
   "metadata": {},
   "source": [
    "Etape 1: Importation des dependances "
   ]
  },
  {
   "cell_type": "code",
   "execution_count": 17,
   "metadata": {},
   "outputs": [],
   "source": [
    "import numpy as np\n",
    "import pandas as pd\n",
    "import matplotlib.pyplot as plt\n",
    "import seaborn as sns"
   ]
  },
  {
   "cell_type": "markdown",
   "metadata": {},
   "source": [
    "Chargement et reduction du nombre d'observation de notre jeu de donnees"
   ]
  },
  {
   "cell_type": "code",
   "execution_count": 33,
   "metadata": {},
   "outputs": [],
   "source": [
    "\n",
    "\n",
    "# Charger les données\n",
    "ratingsINIT = pd.read_csv('rating.csv')\n",
    "\n"
   ]
  },
  {
   "cell_type": "code",
   "execution_count": 35,
   "metadata": {},
   "outputs": [],
   "source": [
    "\n",
    "\n",
    "# Compter le nombre d'évaluations par utilisateur\n",
    "user_counts = ratingsINIT['userId'].value_counts()\n",
    "\n",
    "# Sélectionner les utilisateurs avec au moins 100 évaluations\n",
    "selected_users = user_counts[user_counts >= 400].index\n",
    "\n",
    "# Filtrer les données pour ne conserver que les utilisateurs sélectionnés\n",
    "filtered_ratings = ratingsINIT[ratingsINIT['userId'].isin(selected_users)]\n",
    "\n",
    "# Compter le nombre d'évaluations par film\n",
    "movie_counts = filtered_ratings['movieId'].value_counts()\n",
    "\n",
    "# Sélectionner les films avec au moins 100 évaluations\n",
    "selected_movies = movie_counts[movie_counts >= 400].index\n",
    "\n"
   ]
  },
  {
   "cell_type": "markdown",
   "metadata": {},
   "source": [
    "Exportation du jeu de données reduit"
   ]
  },
  {
   "cell_type": "code",
   "execution_count": 36,
   "metadata": {},
   "outputs": [],
   "source": [
    "# Filtrer les données pour ne conserver que les films sélectionnés\n",
    "filtered_ratings = filtered_ratings[filtered_ratings['movieId'].isin(selected_movies)]\n",
    "\n",
    "# Exporter le dataset réduit en CSV localement\n",
    "filtered_ratings.to_csv('filtered_ratings.csv', index=False)\n",
    "\n"
   ]
  },
  {
   "cell_type": "code",
   "execution_count": 37,
   "metadata": {},
   "outputs": [
    {
     "name": "stdout",
     "output_type": "stream",
     "text": [
      "Nombre d'enregistrements dans le fichier d'origine : 20000263\n",
      "Nombre d'enregistrements dans le fichier réduit : 6929129\n",
      "Différence : 13071134 enregistrements réduits\n"
     ]
    }
   ],
   "source": [
    "# Comparer les tailles avant et après la réduction\n",
    "total_records_orig = len(ratingsINIT)\n",
    "total_records_reduced = len(filtered_ratings)\n",
    "\n",
    "print(f\"Nombre d'enregistrements dans le fichier d'origine : {total_records_orig}\")\n",
    "print(f\"Nombre d'enregistrements dans le fichier réduit : {total_records_reduced}\")\n",
    "print(f\"Différence : {total_records_orig - total_records_reduced} enregistrements réduits\")\n"
   ]
  },
  {
   "cell_type": "markdown",
   "metadata": {},
   "source": [
    "Etape 2: Chargement de nos données "
   ]
  },
  {
   "cell_type": "code",
   "execution_count": 38,
   "metadata": {},
   "outputs": [],
   "source": [
    "ratings = pd.read_csv('filtered_ratings.csv')"
   ]
  },
  {
   "cell_type": "code",
   "execution_count": 39,
   "metadata": {},
   "outputs": [
    {
     "data": {
      "text/html": [
       "<div>\n",
       "<style scoped>\n",
       "    .dataframe tbody tr th:only-of-type {\n",
       "        vertical-align: middle;\n",
       "    }\n",
       "\n",
       "    .dataframe tbody tr th {\n",
       "        vertical-align: top;\n",
       "    }\n",
       "\n",
       "    .dataframe thead th {\n",
       "        text-align: right;\n",
       "    }\n",
       "</style>\n",
       "<table border=\"1\" class=\"dataframe\">\n",
       "  <thead>\n",
       "    <tr style=\"text-align: right;\">\n",
       "      <th></th>\n",
       "      <th>userId</th>\n",
       "      <th>movieId</th>\n",
       "      <th>rating</th>\n",
       "      <th>timestamp</th>\n",
       "    </tr>\n",
       "  </thead>\n",
       "  <tbody>\n",
       "    <tr>\n",
       "      <th>0</th>\n",
       "      <td>11</td>\n",
       "      <td>1</td>\n",
       "      <td>4.5</td>\n",
       "      <td>2009-01-02 01:13:41</td>\n",
       "    </tr>\n",
       "    <tr>\n",
       "      <th>1</th>\n",
       "      <td>11</td>\n",
       "      <td>10</td>\n",
       "      <td>2.5</td>\n",
       "      <td>2009-01-02 01:15:59</td>\n",
       "    </tr>\n",
       "    <tr>\n",
       "      <th>2</th>\n",
       "      <td>11</td>\n",
       "      <td>19</td>\n",
       "      <td>3.5</td>\n",
       "      <td>2009-01-01 04:21:44</td>\n",
       "    </tr>\n",
       "    <tr>\n",
       "      <th>3</th>\n",
       "      <td>11</td>\n",
       "      <td>32</td>\n",
       "      <td>5.0</td>\n",
       "      <td>2009-01-01 04:11:35</td>\n",
       "    </tr>\n",
       "    <tr>\n",
       "      <th>4</th>\n",
       "      <td>11</td>\n",
       "      <td>39</td>\n",
       "      <td>4.5</td>\n",
       "      <td>2009-01-02 01:17:12</td>\n",
       "    </tr>\n",
       "  </tbody>\n",
       "</table>\n",
       "</div>"
      ],
      "text/plain": [
       "   userId  movieId  rating            timestamp\n",
       "0      11        1     4.5  2009-01-02 01:13:41\n",
       "1      11       10     2.5  2009-01-02 01:15:59\n",
       "2      11       19     3.5  2009-01-01 04:21:44\n",
       "3      11       32     5.0  2009-01-01 04:11:35\n",
       "4      11       39     4.5  2009-01-02 01:17:12"
      ]
     },
     "execution_count": 39,
     "metadata": {},
     "output_type": "execute_result"
    }
   ],
   "source": [
    "ratings.head()"
   ]
  },
  {
   "cell_type": "code",
   "execution_count": 25,
   "metadata": {},
   "outputs": [],
   "source": [
    "movies = pd.read_csv('movie.csv')"
   ]
  },
  {
   "cell_type": "code",
   "execution_count": 22,
   "metadata": {},
   "outputs": [
    {
     "data": {
      "text/html": [
       "<div>\n",
       "<style scoped>\n",
       "    .dataframe tbody tr th:only-of-type {\n",
       "        vertical-align: middle;\n",
       "    }\n",
       "\n",
       "    .dataframe tbody tr th {\n",
       "        vertical-align: top;\n",
       "    }\n",
       "\n",
       "    .dataframe thead th {\n",
       "        text-align: right;\n",
       "    }\n",
       "</style>\n",
       "<table border=\"1\" class=\"dataframe\">\n",
       "  <thead>\n",
       "    <tr style=\"text-align: right;\">\n",
       "      <th></th>\n",
       "      <th>movieId</th>\n",
       "      <th>title</th>\n",
       "      <th>genres</th>\n",
       "    </tr>\n",
       "  </thead>\n",
       "  <tbody>\n",
       "    <tr>\n",
       "      <th>0</th>\n",
       "      <td>1</td>\n",
       "      <td>Toy Story (1995)</td>\n",
       "      <td>Adventure|Animation|Children|Comedy|Fantasy</td>\n",
       "    </tr>\n",
       "    <tr>\n",
       "      <th>1</th>\n",
       "      <td>2</td>\n",
       "      <td>Jumanji (1995)</td>\n",
       "      <td>Adventure|Children|Fantasy</td>\n",
       "    </tr>\n",
       "    <tr>\n",
       "      <th>2</th>\n",
       "      <td>3</td>\n",
       "      <td>Grumpier Old Men (1995)</td>\n",
       "      <td>Comedy|Romance</td>\n",
       "    </tr>\n",
       "    <tr>\n",
       "      <th>3</th>\n",
       "      <td>4</td>\n",
       "      <td>Waiting to Exhale (1995)</td>\n",
       "      <td>Comedy|Drama|Romance</td>\n",
       "    </tr>\n",
       "    <tr>\n",
       "      <th>4</th>\n",
       "      <td>5</td>\n",
       "      <td>Father of the Bride Part II (1995)</td>\n",
       "      <td>Comedy</td>\n",
       "    </tr>\n",
       "  </tbody>\n",
       "</table>\n",
       "</div>"
      ],
      "text/plain": [
       "   movieId                               title  \\\n",
       "0        1                    Toy Story (1995)   \n",
       "1        2                      Jumanji (1995)   \n",
       "2        3             Grumpier Old Men (1995)   \n",
       "3        4            Waiting to Exhale (1995)   \n",
       "4        5  Father of the Bride Part II (1995)   \n",
       "\n",
       "                                        genres  \n",
       "0  Adventure|Animation|Children|Comedy|Fantasy  \n",
       "1                   Adventure|Children|Fantasy  \n",
       "2                               Comedy|Romance  \n",
       "3                         Comedy|Drama|Romance  \n",
       "4                                       Comedy  "
      ]
     },
     "execution_count": 22,
     "metadata": {},
     "output_type": "execute_result"
    }
   ],
   "source": [
    "movies.head()"
   ]
  },
  {
   "cell_type": "markdown",
   "metadata": {},
   "source": [
    "Étape 3 : Analyse exploratoire des données\n",
    "\n"
   ]
  },
  {
   "cell_type": "code",
   "execution_count": 40,
   "metadata": {},
   "outputs": [
    {
     "name": "stdout",
     "output_type": "stream",
     "text": [
      "Nombre total de notations : 6929129\n",
      "Nombre de movieId uniques : 3912\n",
      "Nombre d'utilisateurs uniques : 10702\n",
      "Moyenne du nombre de notations par utilisateur : 647.46\n",
      "Moyenne du nombre de notations par film : 1771.25\n"
     ]
    }
   ],
   "source": [
    "# Calcul du nombre total de notations\n",
    "n_rating = len(ratings)\n",
    "\n",
    "# Calcul du nombre total de movieId uniques\n",
    "n_movies = ratings['movieId'].nunique()\n",
    "\n",
    "# Calcul du nombre total d'utilisateurs uniques\n",
    "n_users = ratings['userId'].nunique()\n",
    "\n",
    "# Affichage des résultats\n",
    "print(f\"Nombre total de notations : {n_rating}\")\n",
    "print(f\"Nombre de movieId uniques : {n_movies}\")\n",
    "print(f\"Nombre d'utilisateurs uniques : {n_users}\")\n",
    "print(f\"Moyenne du nombre de notations par utilisateur : {round(n_rating/n_users, 2)}\")\n",
    "print(f\"Moyenne du nombre de notations par film : {round(n_rating/n_movies, 2)}\")\n"
   ]
  },
  {
   "cell_type": "markdown",
   "metadata": {},
   "source": [
    "Quelle est la distribution des évaluations des films ?\n",
    "Cette question va explorer la répartition des évaluations données aux films dans l'ensemble de données.\n",
    "\n"
   ]
  },
  {
   "cell_type": "code",
   "execution_count": 41,
   "metadata": {},
   "outputs": [
    {
     "name": "stderr",
     "output_type": "stream",
     "text": [
      "/var/folders/10/s2c8f9_x4196t4gfqb0s2dgm0000gn/T/ipykernel_3169/2038653828.py:1: FutureWarning: \n",
      "\n",
      "Passing `palette` without assigning `hue` is deprecated and will be removed in v0.14.0. Assign the `x` variable to `hue` and set `legend=False` for the same effect.\n",
      "\n",
      "  sns.countplot(x=\"rating\", data=ratings, palette=\"viridis\")\n"
     ]
    },
    {
     "data": {
      "image/png": "[encoded data removed]",
      "text/plain": [
       "<Figure size 640x480 with 1 Axes>"
      ]
     },
     "metadata": {},
     "output_type": "display_data"
    }
   ],
   "source": [
    "sns.countplot(x=\"rating\", data=ratings, palette=\"viridis\")\n",
    "plt.title(\"Distribution of movie ratings\", fontsize=14)\n",
    "plt.show()"
   ]
  },
  {
   "cell_type": "code",
   "execution_count": 42,
   "metadata": {},
   "outputs": [
    {
     "name": "stdout",
     "output_type": "stream",
     "text": [
      "Moyenne globale des évaluations : 3.4.\n",
      "Moyenne des évaluations par utilisateur : 3.43.\n"
     ]
    }
   ],
   "source": [
    "print(f\"Moyenne globale des évaluations : {round(ratings['rating'].mean(), 2)}.\")\n",
    "\n",
    "moyenne_par_utilisateur = ratings.groupby('userId')['rating'].mean()\n",
    "print(f\"Moyenne des évaluations par utilisateur : {round(moyenne_par_utilisateur.mean(), 2)}.\")\n"
   ]
  },
  {
   "cell_type": "code",
   "execution_count": null,
   "metadata": {},
   "outputs": [],
   "source": []
  },
  {
   "cell_type": "markdown",
   "metadata": {},
   "source": [
    "Quels sont les films les plus fréquemment évalués ?\n",
    "cherche à identifier les films qui ont reçu le plus grand nombre d'évaluations dans l'ensemble de données."
   ]
  },
  {
   "cell_type": "code",
   "execution_count": 43,
   "metadata": {},
   "outputs": [
    {
     "name": "stdout",
     "output_type": "stream",
     "text": [
      "title\n",
      "Matrix, The (1999)                                                                9709\n",
      "Forrest Gump (1994)                                                               9659\n",
      "Jurassic Park (1993)                                                              9541\n",
      "Back to the Future (1985)                                                         9521\n",
      "Pulp Fiction (1994)                                                               9497\n",
      "Silence of the Lambs, The (1991)                                                  9415\n",
      "Star Wars: Episode IV - A New Hope (1977)                                         9357\n",
      "Men in Black (a.k.a. MIB) (1997)                                                  9353\n",
      "Star Wars: Episode V - The Empire Strikes Back (1980)                             9284\n",
      "Raiders of the Lost Ark (Indiana Jones and the Raiders of the Lost Ark) (1981)    9254\n",
      "Name: count, dtype: int64\n"
     ]
    }
   ],
   "source": [
    "# Fusionner les données de notations avec les données de films sur 'movieId'\n",
    "movie_ratings = ratings.merge(movies, on='movieId')\n",
    "\n",
    "# Compter le nombre d'occurrences de chaque titre de film\n",
    "top_10_most_rated = movie_ratings['title'].value_counts().head(10)\n",
    "\n",
    "# Afficher les 10 films les plus fréquemment évalués\n",
    "print(top_10_most_rated)\n"
   ]
  },
  {
   "cell_type": "code",
   "execution_count": 44,
   "metadata": {},
   "outputs": [
    {
     "data": {
      "text/html": [
       "<div>\n",
       "<style scoped>\n",
       "    .dataframe tbody tr th:only-of-type {\n",
       "        vertical-align: middle;\n",
       "    }\n",
       "\n",
       "    .dataframe tbody tr th {\n",
       "        vertical-align: top;\n",
       "    }\n",
       "\n",
       "    .dataframe thead th {\n",
       "        text-align: right;\n",
       "    }\n",
       "</style>\n",
       "<table border=\"1\" class=\"dataframe\">\n",
       "  <thead>\n",
       "    <tr style=\"text-align: right;\">\n",
       "      <th></th>\n",
       "      <th>movieId</th>\n",
       "      <th>title</th>\n",
       "      <th>genres</th>\n",
       "    </tr>\n",
       "  </thead>\n",
       "  <tbody>\n",
       "    <tr>\n",
       "      <th>6477</th>\n",
       "      <td>6587</td>\n",
       "      <td>Gigli (2003)</td>\n",
       "      <td>Comedy|Crime|Romance</td>\n",
       "    </tr>\n",
       "  </tbody>\n",
       "</table>\n",
       "</div>"
      ],
      "text/plain": [
       "      movieId         title                genres\n",
       "6477     6587  Gigli (2003)  Comedy|Crime|Romance"
      ]
     },
     "execution_count": 44,
     "metadata": {},
     "output_type": "execute_result"
    }
   ],
   "source": [
    "# Calculer les moyennes des évaluations par 'movieId'\n",
    "mean_ratings = ratings.groupby('movieId')[['rating']].mean()\n",
    "\n",
    "# Trouver l'indice du film avec la note moyenne la plus basse\n",
    "lowest_rated_idx = mean_ratings['rating'].idxmin()\n",
    "\n",
    "# Afficher les informations sur le film avec la note moyenne la plus basse\n",
    "movies[movies['movieId'] == lowest_rated_idx]\n"
   ]
  },
  {
   "cell_type": "markdown",
   "metadata": {},
   "source": [
    "`Gigli`  a la note moyenne la plus basse"
   ]
  },
  {
   "cell_type": "code",
   "execution_count": 45,
   "metadata": {},
   "outputs": [
    {
     "name": "stdout",
     "output_type": "stream",
     "text": [
      "     movieId                  title       genres\n",
      "843      858  Godfather, The (1972)  Crime|Drama\n"
     ]
    }
   ],
   "source": [
    "# Calculer les moyennes des évaluations par 'movieId'\n",
    "mean_ratings = ratings.groupby('movieId')[['rating']].mean()\n",
    "\n",
    "# Trouver l'indice du film avec la note moyenne la plus élevée\n",
    "highest_rated = mean_ratings['rating'].idxmax()\n",
    "\n",
    "# Afficher les informations sur le film avec la note moyenne la plus élevée\n",
    "highest_rated_movie = movies[movies['movieId'] == highest_rated]\n",
    "print(highest_rated_movie)\n"
   ]
  },
  {
   "cell_type": "markdown",
   "metadata": {},
   "source": [
    "Combien d'évaluations a Godfather"
   ]
  },
  {
   "cell_type": "code",
   "execution_count": 46,
   "metadata": {},
   "outputs": [
    {
     "data": {
      "text/html": [
       "<div>\n",
       "<style scoped>\n",
       "    .dataframe tbody tr th:only-of-type {\n",
       "        vertical-align: middle;\n",
       "    }\n",
       "\n",
       "    .dataframe tbody tr th {\n",
       "        vertical-align: top;\n",
       "    }\n",
       "\n",
       "    .dataframe thead th {\n",
       "        text-align: right;\n",
       "    }\n",
       "</style>\n",
       "<table border=\"1\" class=\"dataframe\">\n",
       "  <thead>\n",
       "    <tr style=\"text-align: right;\">\n",
       "      <th></th>\n",
       "      <th>userId</th>\n",
       "      <th>movieId</th>\n",
       "      <th>rating</th>\n",
       "      <th>timestamp</th>\n",
       "    </tr>\n",
       "  </thead>\n",
       "  <tbody>\n",
       "    <tr>\n",
       "      <th>65</th>\n",
       "      <td>11</td>\n",
       "      <td>858</td>\n",
       "      <td>2.5</td>\n",
       "      <td>2009-01-02 01:15:24</td>\n",
       "    </tr>\n",
       "    <tr>\n",
       "      <th>1038</th>\n",
       "      <td>54</td>\n",
       "      <td>858</td>\n",
       "      <td>5.0</td>\n",
       "      <td>2000-11-28 19:40:48</td>\n",
       "    </tr>\n",
       "    <tr>\n",
       "      <th>1722</th>\n",
       "      <td>58</td>\n",
       "      <td>858</td>\n",
       "      <td>5.0</td>\n",
       "      <td>2000-11-20 10:05:38</td>\n",
       "    </tr>\n",
       "    <tr>\n",
       "      <th>2367</th>\n",
       "      <td>91</td>\n",
       "      <td>858</td>\n",
       "      <td>5.0</td>\n",
       "      <td>2005-03-23 03:41:29</td>\n",
       "    </tr>\n",
       "    <tr>\n",
       "      <th>2890</th>\n",
       "      <td>96</td>\n",
       "      <td>858</td>\n",
       "      <td>3.0</td>\n",
       "      <td>2014-01-01 18:27:46</td>\n",
       "    </tr>\n",
       "    <tr>\n",
       "      <th>...</th>\n",
       "      <td>...</td>\n",
       "      <td>...</td>\n",
       "      <td>...</td>\n",
       "      <td>...</td>\n",
       "    </tr>\n",
       "    <tr>\n",
       "      <th>6924558</th>\n",
       "      <td>138382</td>\n",
       "      <td>858</td>\n",
       "      <td>5.0</td>\n",
       "      <td>2000-04-01 00:33:01</td>\n",
       "    </tr>\n",
       "    <tr>\n",
       "      <th>6926038</th>\n",
       "      <td>138404</td>\n",
       "      <td>858</td>\n",
       "      <td>3.5</td>\n",
       "      <td>2006-01-23 09:03:13</td>\n",
       "    </tr>\n",
       "    <tr>\n",
       "      <th>6926465</th>\n",
       "      <td>138406</td>\n",
       "      <td>858</td>\n",
       "      <td>4.0</td>\n",
       "      <td>2005-12-12 20:36:43</td>\n",
       "    </tr>\n",
       "    <tr>\n",
       "      <th>6927039</th>\n",
       "      <td>138411</td>\n",
       "      <td>858</td>\n",
       "      <td>5.0</td>\n",
       "      <td>2005-04-01 16:50:50</td>\n",
       "    </tr>\n",
       "    <tr>\n",
       "      <th>6927544</th>\n",
       "      <td>138437</td>\n",
       "      <td>858</td>\n",
       "      <td>5.0</td>\n",
       "      <td>2007-10-27 03:04:03</td>\n",
       "    </tr>\n",
       "  </tbody>\n",
       "</table>\n",
       "<p>7928 rows × 4 columns</p>\n",
       "</div>"
      ],
      "text/plain": [
       "         userId  movieId  rating            timestamp\n",
       "65           11      858     2.5  2009-01-02 01:15:24\n",
       "1038         54      858     5.0  2000-11-28 19:40:48\n",
       "1722         58      858     5.0  2000-11-20 10:05:38\n",
       "2367         91      858     5.0  2005-03-23 03:41:29\n",
       "2890         96      858     3.0  2014-01-01 18:27:46\n",
       "...         ...      ...     ...                  ...\n",
       "6924558  138382      858     5.0  2000-04-01 00:33:01\n",
       "6926038  138404      858     3.5  2006-01-23 09:03:13\n",
       "6926465  138406      858     4.0  2005-12-12 20:36:43\n",
       "6927039  138411      858     5.0  2005-04-01 16:50:50\n",
       "6927544  138437      858     5.0  2007-10-27 03:04:03\n",
       "\n",
       "[7928 rows x 4 columns]"
      ]
     },
     "execution_count": 46,
     "metadata": {},
     "output_type": "execute_result"
    }
   ],
   "source": [
    "ratings[ratings['movieId']==highest_rated]"
   ]
  },
  {
   "cell_type": "markdown",
   "metadata": {},
   "source": [
    "Utilisation de la moyenne de Bayes\n",
    "#### Moyenne Bayésienne\n",
    "\n",
    "La [moyenne bayésienne](https://en.wikipedia.org/wiki/Bayesian_average) est une méthode utilisée pour calculer une note moyenne pondérée qui prend en compte non seulement la moyenne des évaluations, mais aussi le nombre de ces évaluations. Cette méthode est particulièrement utile pour éviter que des films avec très peu d'évaluations, mais des notes extrêmes, ne dominent les classements.\n",
    "\n",
    "La formule de la moyenne bayésienne est :\n",
    "\n",
    "\\[ r_{i} = \\frac{C \\times m + \\Sigma{\\text{reviews}}}{C + N} \\]\n",
    "\n",
    "où :\n",
    "- \\( C \\) représente notre confiance et est défini comme le nombre moyen de notations par film.\n",
    "- \\( m \\) représente notre prior et est défini comme la moyenne globale des évaluations de tous les films.\n",
    "- \\( N \\) est le nombre total de notations pour le film \\( i \\).\n",
    "\n",
    "En utilisant cette formule, nous pouvons obtenir une évaluation plus équilibrée de la popularité d'un film, en tenant compte à la fois de la qualité des évaluations et de leur quantité.\n"
   ]
  },
  {
   "cell_type": "code",
   "execution_count": 47,
   "metadata": {},
   "outputs": [
    {
     "data": {
      "text/html": [
       "<div>\n",
       "<style scoped>\n",
       "    .dataframe tbody tr th:only-of-type {\n",
       "        vertical-align: middle;\n",
       "    }\n",
       "\n",
       "    .dataframe tbody tr th {\n",
       "        vertical-align: top;\n",
       "    }\n",
       "\n",
       "    .dataframe thead th {\n",
       "        text-align: right;\n",
       "    }\n",
       "</style>\n",
       "<table border=\"1\" class=\"dataframe\">\n",
       "  <thead>\n",
       "    <tr style=\"text-align: right;\">\n",
       "      <th></th>\n",
       "      <th>count</th>\n",
       "      <th>mean</th>\n",
       "    </tr>\n",
       "    <tr>\n",
       "      <th>movieId</th>\n",
       "      <th></th>\n",
       "      <th></th>\n",
       "    </tr>\n",
       "  </thead>\n",
       "  <tbody>\n",
       "    <tr>\n",
       "      <th>1</th>\n",
       "      <td>8771</td>\n",
       "      <td>3.851841</td>\n",
       "    </tr>\n",
       "    <tr>\n",
       "      <th>2</th>\n",
       "      <td>6139</td>\n",
       "      <td>2.957566</td>\n",
       "    </tr>\n",
       "    <tr>\n",
       "      <th>3</th>\n",
       "      <td>2737</td>\n",
       "      <td>2.886189</td>\n",
       "    </tr>\n",
       "    <tr>\n",
       "      <th>4</th>\n",
       "      <td>782</td>\n",
       "      <td>2.581841</td>\n",
       "    </tr>\n",
       "    <tr>\n",
       "      <th>5</th>\n",
       "      <td>2419</td>\n",
       "      <td>2.708557</td>\n",
       "    </tr>\n",
       "  </tbody>\n",
       "</table>\n",
       "</div>"
      ],
      "text/plain": [
       "         count      mean\n",
       "movieId                 \n",
       "1         8771  3.851841\n",
       "2         6139  2.957566\n",
       "3         2737  2.886189\n",
       "4          782  2.581841\n",
       "5         2419  2.708557"
      ]
     },
     "execution_count": 47,
     "metadata": {},
     "output_type": "execute_result"
    }
   ],
   "source": [
    "# Grouper les notations par 'movieId' et calculer le nombre de votes et la moyenne des notes\n",
    "movie_stats = ratings.groupby('movieId')['rating'].agg(['count', 'mean'])\n",
    "\n",
    "# Afficher les premières lignes des statistiques des films\n",
    "movie_stats.head()\n"
   ]
  },
  {
   "cell_type": "code",
   "execution_count": null,
   "metadata": {},
   "outputs": [],
   "source": []
  },
  {
   "cell_type": "code",
   "execution_count": 48,
   "metadata": {},
   "outputs": [
    {
     "name": "stdout",
     "output_type": "stream",
     "text": [
      "Nombre moyen de notations pour un film donné : 1771.25\n",
      "Note moyenne pour un film donné : 3.28\n",
      "Moyenne bayésienne : 3.282\n"
     ]
    }
   ],
   "source": [
    "# Calculer C et m\n",
    "C = movie_stats['count'].mean()\n",
    "m = movie_stats['mean'].mean()\n",
    "\n",
    "# Afficher les moyennes calculées\n",
    "print(f\"Nombre moyen de notations pour un film donné : {C:.2f}\")\n",
    "print(f\"Note moyenne pour un film donné : {m:.2f}\")\n",
    "\n",
    "# Définition de la fonction pour calculer la moyenne bayésienne\n",
    "def bayesian_avg(ratings):\n",
    "    bayesian_avg = (C * m + ratings.sum()) / (C + ratings.count())\n",
    "    return round(bayesian_avg, 3)\n",
    "\n",
    "# Exemple d'utilisation de la fonction bayesian_avg\n",
    "example_ratings = pd.Series([4, 5, 3, 4, 5])  # Exemple de série de notations\n",
    "print(f\"Moyenne bayésienne : {bayesian_avg(example_ratings)}\")\n"
   ]
  },
  {
   "cell_type": "markdown",
   "metadata": {},
   "source": [
    "#### Test de la Fonction `bayesian_avg`\n",
    "\n",
    "Nous allons tester la fonction `bayesian_avg` sur le film \"The Godfather\" avec les notations `[5, 5]`.\n",
    "\n",
    "La fonction `bayesian_avg` calcule une moyenne bayésienne pondérée qui prend en compte à la fois la moyenne des évaluations existantes et le nombre de ces évaluations. Cela permet d'obtenir une estimation plus équilibrée de la note moyenne du film, en accordant plus de poids aux films avec plus de notations.\n",
    "\n",
    "En exécutant cette fonction sur \"The Godfather\" avec les notations `[5, 5]`, nous obtenons une estimation de la note moyenne pondérée pour ce film.\n"
   ]
  },
  {
   "cell_type": "code",
   "execution_count": 49,
   "metadata": {},
   "outputs": [
    {
     "name": "stdout",
     "output_type": "stream",
     "text": [
      "Moyenne bayésienne pour The Godfather : 3.282\n"
     ]
    }
   ],
   "source": [
    "# Définir la série de notations pour The Godfather\n",
    "godfather_ratings = pd.Series([5, 5])\n",
    "\n",
    "# Calculer la moyenne bayésienne pour The Godfather en utilisant la fonction bayesian_avg\n",
    "result = bayesian_avg(godfather_ratings)\n",
    "\n",
    "# Afficher le résultat\n",
    "print(f\"Moyenne bayésienne pour The Godfather : {result}\")\n"
   ]
  },
  {
   "cell_type": "markdown",
   "metadata": {},
   "source": [
    "Application de la moyenne de bayes sur tous les films\n",
    "Moyenne bayésienne pour The Godfather : 3.282\n"
   ]
  },
  {
   "cell_type": "markdown",
   "metadata": {},
   "source": [
    "But de la Moyenne Bayésienne pour les Films\n",
    "Le but principal de la moyenne bayésienne appliquée aux films est de fournir une estimation plus fiable de la note moyenne d'un film en prenant en considération :\n",
    "\n",
    "La Moyenne des Notes : C'est la moyenne arithmétique des notes attribuées au film.\n",
    "Le Nombre de Notations : C'est le nombre total de notations ou de critiques reçues par le film.\n"
   ]
  },
  {
   "cell_type": "markdown",
   "metadata": {},
   "source": [
    "Pour appliquer la moyenne bayésienne à l'ensemble des films dans un ensemble de données, on calcule d'abord les paramètres nécessaires comme la moyenne des notes et le nombre moyen de notations par film. Ensuite, pour chaque film, on utilise ces paramètres pour calculer sa moyenne bayésienne en fonction de ses notations disponibles."
   ]
  },
  {
   "cell_type": "code",
   "execution_count": 50,
   "metadata": {},
   "outputs": [],
   "source": [
    "# Calcul de la moyenne bayésienne pour chaque film\n",
    "bayesian_avg_ratings = ratings.groupby('movieId')['rating'].agg(bayesian_avg).reset_index()\n",
    "\n",
    "# Renommage des colonnes pour une meilleure lisibilité\n",
    "bayesian_avg_ratings.columns = ['movieId', 'bayesian_avg']\n",
    "\n",
    "# Fusion des moyennes bayésiennes avec les statistiques de base par film\n",
    "movie_stats = movie_stats.merge(bayesian_avg_ratings, on='movieId')\n"
   ]
  },
  {
   "cell_type": "markdown",
   "metadata": {},
   "source": [
    "ce code réalise le calcul des moyennes bayésiennes pour chaque film et les intègre dans votre ensemble de données movie_stats, enrichissant ainsi l'analyse avec une mesure plus sophistiquée de la qualité perçue des films, prenant en compte à la fois le nombre et la valeur des évaluations reçues."
   ]
  },
  {
   "cell_type": "code",
   "execution_count": null,
   "metadata": {},
   "outputs": [],
   "source": []
  },
  {
   "cell_type": "code",
   "execution_count": 51,
   "metadata": {},
   "outputs": [
    {
     "name": "stdout",
     "output_type": "stream",
     "text": [
      "                                                 title  bayesian_avg\n",
      "202                   Shawshank Redemption, The (1994)         4.191\n",
      "478                              Godfather, The (1972)         4.190\n",
      "43                          Usual Suspects, The (1995)         4.109\n",
      "188                                Pulp Fiction (1994)         4.100\n",
      "663  Raiders of the Lost Ark (Indiana Jones and the...         4.083\n"
     ]
    }
   ],
   "source": [
    "# Fusion des données de movie_stats avec les titres des films à partir du DataFrame movies\n",
    "movie_stats = movie_stats.merge(movies[['movieId', 'title']])\n",
    "\n",
    "# Tri des films par moyenne bayésienne décroissante et affichage des cinq premiers\n",
    "top_movies = movie_stats.sort_values('bayesian_avg', ascending=False).head()\n",
    "\n",
    "# Affichage des cinq premiers films les mieux notés par moyenne bayésienne\n",
    "print(top_movies[['title', 'bayesian_avg']])\n"
   ]
  },
  {
   "cell_type": "markdown",
   "metadata": {},
   "source": [
    "\n",
    "En utilisant la moyenne bayésienne, il est évident que des films comme \"Shawshank Redemption\", \"The Godfather\" et \"The Usual Suspects\" se distinguent comme les mieux notés. Cela correspond bien à leur reconnaissance critique et à leur réputation de qualité. La moyenne bayésienne permet de pondérer les évaluations en tenant compte à la fois de la note moyenne et du nombre de notations reçues, offrant ainsi une mesure plus robuste de la qualité perçue d'un film."
   ]
  },
  {
   "cell_type": "code",
   "execution_count": 52,
   "metadata": {},
   "outputs": [
    {
     "name": "stdout",
     "output_type": "stream",
     "text": [
      "                               title  bayesian_avg\n",
      "879   Speed 2: Cruise Control (1997)         2.360\n",
      "1978        Battlefield Earth (2000)         2.380\n",
      "880            Batman & Robin (1997)         2.401\n",
      "864                  Anaconda (1997)         2.469\n",
      "1528           Wild Wild West (1999)         2.481\n"
     ]
    }
   ],
   "source": [
    "# Tri des films par moyenne bayésienne croissante pour trouver les moins bien notés\n",
    "bottom_movies = movie_stats.sort_values('bayesian_avg', ascending=True).head()\n",
    "\n",
    "# Affichage des cinq premiers films les moins bien notés par moyenne bayésienne\n",
    "print(bottom_movies[['title', 'bayesian_avg']])\n"
   ]
  },
  {
   "cell_type": "markdown",
   "metadata": {},
   "source": [
    "Ce code triera le DataFrame movie_stats par la colonne bayesian_avg en ordre croissant (ascending=True), ce qui permettra d'identifier les cinq films ayant les moyennes bayésiennes les plus basses. Ensuite, il affichera les titres et les moyennes bayésiennes de ces films. Assurez-vous que movie_stats contienne les colonnes nécessaires telles que title et bayesian_avg pour que cela fonctionne correctement"
   ]
  },
  {
   "cell_type": "markdown",
   "metadata": {},
   "source": [
    "Avec la moyenne bayésienne, il semble que les films comme Speed 2: Cruise Control, Battlefield Earth et Godzilla sont parmi les moins bien notés. "
   ]
  },
  {
   "cell_type": "markdown",
   "metadata": {},
   "source": [
    "Aperçu des Genres de Films\n",
    "Nettoyage des Genres :\n",
    "\n",
    "Les genres sont actuellement exprimés sous forme de chaîne de caractères avec un séparateur pipe | entre chaque genre. Nous allons manipuler cette chaîne pour la convertir en une liste, ce qui facilitera notre analyse.\n",
    "Extraction de l'Année depuis le Titre :\n",
    "\n",
    "Actuellement, le titre de chaque film est suivi de l'année entre parenthèses. Nous allons extraire cette année et la stocker dans une nouvelle colonne.\n",
    "En suivant ces étapes, nous rendrons nos données plus structurées et plus faciles à analyser.\n",
    "\n",
    "\n",
    "\n",
    "\n",
    "\n"
   ]
  },
  {
   "cell_type": "code",
   "execution_count": 53,
   "metadata": {},
   "outputs": [
    {
     "data": {
      "text/html": [
       "<div>\n",
       "<style scoped>\n",
       "    .dataframe tbody tr th:only-of-type {\n",
       "        vertical-align: middle;\n",
       "    }\n",
       "\n",
       "    .dataframe tbody tr th {\n",
       "        vertical-align: top;\n",
       "    }\n",
       "\n",
       "    .dataframe thead th {\n",
       "        text-align: right;\n",
       "    }\n",
       "</style>\n",
       "<table border=\"1\" class=\"dataframe\">\n",
       "  <thead>\n",
       "    <tr style=\"text-align: right;\">\n",
       "      <th></th>\n",
       "      <th>movieId</th>\n",
       "      <th>title</th>\n",
       "      <th>genres</th>\n",
       "    </tr>\n",
       "  </thead>\n",
       "  <tbody>\n",
       "    <tr>\n",
       "      <th>0</th>\n",
       "      <td>1</td>\n",
       "      <td>Toy Story (1995)</td>\n",
       "      <td>[Adventure, Animation, Children, Comedy, Fantasy]</td>\n",
       "    </tr>\n",
       "    <tr>\n",
       "      <th>1</th>\n",
       "      <td>2</td>\n",
       "      <td>Jumanji (1995)</td>\n",
       "      <td>[Adventure, Children, Fantasy]</td>\n",
       "    </tr>\n",
       "    <tr>\n",
       "      <th>2</th>\n",
       "      <td>3</td>\n",
       "      <td>Grumpier Old Men (1995)</td>\n",
       "      <td>[Comedy, Romance]</td>\n",
       "    </tr>\n",
       "    <tr>\n",
       "      <th>3</th>\n",
       "      <td>4</td>\n",
       "      <td>Waiting to Exhale (1995)</td>\n",
       "      <td>[Comedy, Drama, Romance]</td>\n",
       "    </tr>\n",
       "    <tr>\n",
       "      <th>4</th>\n",
       "      <td>5</td>\n",
       "      <td>Father of the Bride Part II (1995)</td>\n",
       "      <td>[Comedy]</td>\n",
       "    </tr>\n",
       "  </tbody>\n",
       "</table>\n",
       "</div>"
      ],
      "text/plain": [
       "   movieId                               title  \\\n",
       "0        1                    Toy Story (1995)   \n",
       "1        2                      Jumanji (1995)   \n",
       "2        3             Grumpier Old Men (1995)   \n",
       "3        4            Waiting to Exhale (1995)   \n",
       "4        5  Father of the Bride Part II (1995)   \n",
       "\n",
       "                                              genres  \n",
       "0  [Adventure, Animation, Children, Comedy, Fantasy]  \n",
       "1                     [Adventure, Children, Fantasy]  \n",
       "2                                  [Comedy, Romance]  \n",
       "3                           [Comedy, Drama, Romance]  \n",
       "4                                           [Comedy]  "
      ]
     },
     "execution_count": 53,
     "metadata": {},
     "output_type": "execute_result"
    }
   ],
   "source": [
    "# Application de la transformation pour convertir les genres en listes\n",
    "movies['genres'] = movies['genres'].apply(lambda x: x.split(\"|\"))\n",
    "\n",
    "# Affichage des premières lignes pour vérification\n",
    "movies.head()\n"
   ]
  },
  {
   "cell_type": "markdown",
   "metadata": {},
   "source": [
    "Combien y a-t-il de genres de films différents ?\n",
    "\n",
    "\n"
   ]
  },
  {
   "cell_type": "code",
   "execution_count": 54,
   "metadata": {},
   "outputs": [
    {
     "name": "stdout",
     "output_type": "stream",
     "text": [
      "Il y a 20 genres différents.\n"
     ]
    },
    {
     "data": {
      "text/plain": [
       "Counter({'Drama': 13344,\n",
       "         'Comedy': 8374,\n",
       "         'Thriller': 4178,\n",
       "         'Romance': 4127,\n",
       "         'Action': 3520,\n",
       "         'Crime': 2939,\n",
       "         'Horror': 2611,\n",
       "         'Documentary': 2471,\n",
       "         'Adventure': 2329,\n",
       "         'Sci-Fi': 1743,\n",
       "         'Mystery': 1514,\n",
       "         'Fantasy': 1412,\n",
       "         'War': 1194,\n",
       "         'Children': 1139,\n",
       "         'Musical': 1036,\n",
       "         'Animation': 1027,\n",
       "         'Western': 676,\n",
       "         'Film-Noir': 330,\n",
       "         '(no genres listed)': 246,\n",
       "         'IMAX': 196})"
      ]
     },
     "execution_count": 54,
     "metadata": {},
     "output_type": "execute_result"
    }
   ],
   "source": [
    "from collections import Counter\n",
    "\n",
    "# Compter la fréquence des genres\n",
    "genre_frequency = Counter(g for genres in movies['genres'] for g in genres)\n",
    "\n",
    "# Afficher le nombre de genres uniques\n",
    "print(f\"Il y a {len(genre_frequency)} genres différents.\")\n",
    "\n",
    "# Afficher la fréquence des genres\n",
    "genre_frequency\n"
   ]
  },
  {
   "cell_type": "code",
   "execution_count": 55,
   "metadata": {},
   "outputs": [
    {
     "name": "stdout",
     "output_type": "stream",
     "text": [
      "Les 5 genres les plus courants : \n",
      " [('Drama', 13344), ('Comedy', 8374), ('Thriller', 4178), ('Romance', 4127), ('Action', 3520)]\n"
     ]
    }
   ],
   "source": [
    "print(\"Les 5 genres les plus courants : \\n\", genre_frequency.most_common(5))\n"
   ]
  },
  {
   "cell_type": "markdown",
   "metadata": {},
   "source": [
    "Les cinq genres les plus populaires sont : Drame, Comédie, Thriller, Action et Romance.\n",
    "\n",
    "Nous allons également visualiser la popularité des genres avec un graphique à barres."
   ]
  },
  {
   "cell_type": "code",
   "execution_count": 56,
   "metadata": {},
   "outputs": [
    {
     "data": {
      "image/png": "[encoded data removed]",
      "text/plain": [
       "<Figure size 1000x600 with 1 Axes>"
      ]
     },
     "metadata": {},
     "output_type": "display_data"
    }
   ],
   "source": [
    "import seaborn as sns\n",
    "import matplotlib.pyplot as plt\n",
    "import pandas as pd\n",
    "\n",
    "# Création du DataFrame à partir du dictionnaire genre_frequency\n",
    "genre_frequency_df = pd.DataFrame(list(genre_frequency.items()), columns=['genre', 'count'])\n",
    "\n",
    "# Création du graphique à barres avec seaborn\n",
    "plt.figure(figsize=(10, 6))\n",
    "sns.barplot(x='genre', y='count', data=genre_frequency_df.sort_values(by='count', ascending=False))\n",
    "plt.xticks(rotation=90)\n",
    "plt.xlabel('Genres')\n",
    "plt.ylabel('Nombre de Films')\n",
    "plt.title('Popularité des Genres de Films')\n",
    "plt.show()\n"
   ]
  },
  {
   "cell_type": "markdown",
   "metadata": {},
   "source": [
    "Étape 4 : Prétraitement des Données\n",
    "Nous allons utiliser une technique appelée filtrage collaboratif pour générer des recommandations pour les utilisateurs. Cette technique repose sur l'idée que des personnes similaires aiment des choses similaires.\n",
    "\n",
    "La première étape consiste à transformer nos données en une matrice utilisateur-article, également appelée matrice \"utilité\". Dans cette matrice, les lignes représentent les utilisateurs et les colonnes représentent les films. L'avantage du filtrage collaboratif est qu'il ne nécessite aucune information spécifique sur les utilisateurs ou les films pour générer des recommandations.\n",
    "\n",
    "\n",
    "\n",
    "\n",
    "\n"
   ]
  },
  {
   "cell_type": "code",
   "execution_count": null,
   "metadata": {},
   "outputs": [],
   "source": []
  },
  {
   "cell_type": "markdown",
   "metadata": {},
   "source": [
    "La fonction create_X() produit une matrice creuse X\n",
    "accompagnée de quatre dictionnaires de mappage :\n",
    "\n",
    "user_mapper : associe l'identifiant d'utilisateur à l'indice correspondant dans la matrice X\n",
    "\n",
    "movie_mapper : associe l'identifiant de film à l'indice correspondant dans la matrice X\n",
    "\n",
    "user_inv_mapper : associe l'indice dans la matrice X\n",
    "à l'identifiant d'utilisateur correspondant.\n",
    "movie_inv_mapper : associe l'indice dans la matrice \n",
    "X à l'identifiant de film correspondant.\n",
    "\n",
    "La matrice X est de type sparse CSR (scipy.sparse.csr_matrix), ce qui  signifie qu'elle est optimisée pour le stockage de données où la majorité des valeurs sont nulles. C'est particulièrement efficace pour les systèmes de recommandation où chaque utilisateur n'interagit qu'avec un petit nombre d'articles parmi une grande sélection disponible."
   ]
  },
  {
   "cell_type": "markdown",
   "metadata": {},
   "source": []
  },
  {
   "cell_type": "code",
   "execution_count": 62,
   "metadata": {},
   "outputs": [],
   "source": [
    "from scipy.sparse import csr_matrix\n",
    "import numpy as np\n",
    "import pandas as pd\n",
    "\n",
    "def create_X(df):\n",
    "    \"\"\"\n",
    "    Génère une matrice creuse à partir d'un dataframe de notations.\n",
    "    \n",
    "    Args:\n",
    "        df: dataframe pandas contenant 3 colonnes (userId, movieId, rating)\n",
    "    \n",
    "    Returns:\n",
    "        X: matrice creuse représentant les notations\n",
    "        user_mapper: dictionnaire qui mappe les ID utilisateur aux indices d'utilisateur\n",
    "        user_inv_mapper: dictionnaire qui mappe les indices d'utilisateur aux ID utilisateur\n",
    "        movie_mapper: dictionnaire qui mappe les ID film aux indices de film\n",
    "        movie_inv_mapper: dictionnaire qui mappe les indices de film aux ID film\n",
    "    \"\"\"\n",
    "    M = df['userId'].nunique()  # Nombre d'utilisateurs uniques\n",
    "    N = df['movieId'].nunique()  # Nombre de films uniques\n",
    "\n",
    "    # Création des mappages pour les utilisateurs et les films\n",
    "    user_mapper = dict(zip(np.unique(df[\"userId\"]), list(range(M))))\n",
    "    movie_mapper = dict(zip(np.unique(df[\"movieId\"]), list(range(N))))\n",
    "    \n",
    "    # Mappage inverse pour les utilisateurs et les films\n",
    "    user_inv_mapper = dict(zip(list(range(M)), np.unique(df[\"userId\"])))\n",
    "    movie_inv_mapper = dict(zip(list(range(N)), np.unique(df[\"movieId\"])))\n",
    "    \n",
    "    # Indexation des utilisateurs et des films dans la matrice X\n",
    "    user_index = [user_mapper[i] for i in df['userId']]\n",
    "    item_index = [movie_mapper[i] for i in df['movieId']]\n",
    "\n",
    "    # Création de la matrice creuse X\n",
    "    X = csr_matrix((df[\"rating\"], (user_index, item_index)), shape=(M, N))\n",
    "    \n",
    "    return X, user_mapper, movie_mapper, user_inv_mapper, movie_inv_mapper\n",
    "\n",
    "# Exemple d'utilisation avec le dataframe 'ratings'\n",
    "X, user_mapper, movie_mapper, user_inv_mapper, movie_inv_mapper = create_X(ratings)\n"
   ]
  },
  {
   "cell_type": "markdown",
   "metadata": {},
   "source": [
    "Cette fonction prend en entrée un dataframe contenant les colonnes userId, movieId, et rating, et génère une matrice creuse X où les lignes représentent les utilisateurs, les colonnes représentent les films, et les valeurs représentent les notations données par les utilisateurs aux films. Les dictionnaires user_mapper, user_inv_mapper, movie_mapper, et movie_inv_mapper sont créés pour mapper respectivement les ID utilisateur aux indices d'utilisateur, les indices d'utilisateur aux ID utilisateur, les ID film aux indices de film, et les indices de film aux ID film."
   ]
  },
  {
   "cell_type": "code",
   "execution_count": 63,
   "metadata": {},
   "outputs": [
    {
     "data": {
      "text/plain": [
       "(10702, 3912)"
      ]
     },
     "execution_count": 63,
     "metadata": {},
     "output_type": "execute_result"
    }
   ],
   "source": [
    "X.shape"
   ]
  },
  {
   "cell_type": "markdown",
   "metadata": {},
   "source": [
    "Notre matrice X contient 10702 utilisateurs et 3912 films.\n"
   ]
  },
  {
   "cell_type": "markdown",
   "metadata": {},
   "source": [
    "Ici, nous évaluons la sparsité en calculant le rapport entre le nombre d'éléments stockés (non vides) dans notre matrice et le nombre total d'éléments possibles. Le nombre d'éléments stockés dans notre matrice, également appelé nnz (pour \"number of non-zero elements\"), correspond au nombre de notations présentes dans notre jeu de données.\n",
    "\n",
    "c'est une mesure qui indique à quel point une matrice est creuse, c'est-à-dire combien de ses entrées sont non nulles par rapport à toutes les entrées possibles.\n"
   ]
  },
  {
   "cell_type": "code",
   "execution_count": 64,
   "metadata": {},
   "outputs": [
    {
     "name": "stdout",
     "output_type": "stream",
     "text": [
      "Sparsité de la matrice : 16.55%\n"
     ]
    }
   ],
   "source": [
    "n_total = X.shape[0] * X.shape[1]  # Nombre total d'éléments dans la matrice X\n",
    "n_ratings = X.nnz  # Nombre d'éléments non nuls (notations) dans X\n",
    "sparsity = n_ratings / n_total  # Calcul de la sparsité\n",
    "\n",
    "print(f\"Sparsité de la matrice : {round(sparsity * 100, 2)}%\")\n"
   ]
  },
  {
   "cell_type": "markdown",
   "metadata": {},
   "source": [
    "Cela signifie que environ 16,55 % des entrées de la matrice sont des notations effectivement données par les utilisateurs, tandis que le reste (environ 83,45 %) est constitué de valeurs manquantes, ce qui reflète le fait que chaque utilisateur n'a noté qu'un petit sous-ensemble des films disponibles."
   ]
  },
  {
   "cell_type": "code",
   "execution_count": 65,
   "metadata": {},
   "outputs": [
    {
     "data": {
      "text/plain": [
       "10702"
      ]
     },
     "execution_count": 65,
     "metadata": {},
     "output_type": "execute_result"
    }
   ],
   "source": [
    "n_ratings_per_user = X.getnnz(axis=1)\n",
    "len(n_ratings_per_user)\n"
   ]
  },
  {
   "cell_type": "code",
   "execution_count": 66,
   "metadata": {},
   "outputs": [
    {
     "name": "stdout",
     "output_type": "stream",
     "text": [
      "L'utilisateur le plus actif a noté 3528 films.\n",
      "L'utilisateur le moins actif a noté 107 films.\n"
     ]
    }
   ],
   "source": [
    "print(f\"L'utilisateur le plus actif a noté {n_ratings_per_user.max()} films.\")\n",
    "print(f\"L'utilisateur le moins actif a noté {n_ratings_per_user.min()} films.\")\n"
   ]
  },
  {
   "cell_type": "code",
   "execution_count": 68,
   "metadata": {},
   "outputs": [
    {
     "data": {
      "text/plain": [
       "3912"
      ]
     },
     "execution_count": 68,
     "metadata": {},
     "output_type": "execute_result"
    }
   ],
   "source": [
    "# Calcul du nombre de notations par film dans la matrice X\n",
    "n_ratings_per_movie = X.getnnz(axis=0)\n",
    "\n",
    "# Nombre total de films pour lesquels des notations sont présentes dans la matrice X\n",
    "len(n_ratings_per_movie)\n"
   ]
  },
  {
   "cell_type": "markdown",
   "metadata": {},
   "source": []
  },
  {
   "cell_type": "code",
   "execution_count": 69,
   "metadata": {},
   "outputs": [
    {
     "name": "stdout",
     "output_type": "stream",
     "text": [
      "Le film le plus noté a 9709 évaluations.\n",
      "Le film le moins noté a 400 évaluation.\n"
     ]
    }
   ],
   "source": [
    "print(f\"Le film le plus noté a {n_ratings_per_movie.max()} évaluations.\")\n",
    "print(f\"Le film le moins noté a {n_ratings_per_movie.min()} évaluation.\")\n"
   ]
  },
  {
   "cell_type": "markdown",
   "metadata": {},
   "source": [
    "Étape 5 : Recommandations entre articles avec les k plus proches voisins\n"
   ]
  },
  {
   "cell_type": "markdown",
   "metadata": {},
   "source": [
    "\n",
    "\n",
    "Cela signifie que nous allons rechercher les $k$ films dont les patterns d'engagement des utilisateurs sont les plus similaires à celui du film $i$. En d'autres termes, nous cherchons les films qui ont été notés de manière similaire par les mêmes utilisateurs que ceux qui ont noté le film $i$. C'est une approche basée sur la similarité des utilisateurs pour recommander des films similaires à ceux que les utilisateurs ont déjà aimés ou notés."
   ]
  },
  {
   "cell_type": "code",
   "execution_count": 70,
   "metadata": {},
   "outputs": [],
   "source": [
    "from sklearn.neighbors import NearestNeighbors\n",
    "\n",
    "def find_similar_movies(movie_id, X, movie_mapper, movie_inv_mapper, k, metric='cosine'):\n",
    "    \"\"\"\n",
    "    Trouve les k plus proches voisins pour un film donné.\n",
    "    \n",
    "    Args:\n",
    "        movie_id: ID du film d'intérêt\n",
    "        X: matrice utilitaire utilisateur-article\n",
    "        k: nombre de films similaires à récupérer\n",
    "        metric: métrique de distance pour les calculs kNN\n",
    "    \n",
    "    Renvoie: une liste des ID de k films similaires\n",
    "    \"\"\"\n",
    "    X = X.T\n",
    "    neighbour_ids = []\n",
    "    \n",
    "    movie_ind = movie_mapper[movie_id]\n",
    "    movie_vec = X[movie_ind]\n",
    "    if isinstance(movie_vec, (np.ndarray)):\n",
    "        movie_vec = movie_vec.reshape(1,-1)\n",
    "    \n",
    "    # utiliser k+1 car la sortie kNN inclut l'ID du film d'intérêt\n",
    "    kNN = NearestNeighbors(n_neighbors=k+1, algorithm=\"brute\", metric=metric)\n",
    "    kNN.fit(X)\n",
    "    neighbour = kNN.kneighbors(movie_vec, return_distance=False)\n",
    "    \n",
    "    for i in range(0, k):\n",
    "        n = neighbour.item(i)\n",
    "        neighbour_ids.append(movie_inv_mapper[n])\n",
    "    \n",
    "    neighbour_ids.pop(0)  # supprimer l'ID du film d'intérêt de la liste des voisins\n",
    "    return neighbour_ids\n"
   ]
  },
  {
   "cell_type": "markdown",
   "metadata": {},
   "source": [
    "find_similar_movies() prend en entrée un movieId et la matrice X, et retourne une liste de $k$ films similaires au movieId d'intérêt.\n",
    "\n",
    "Voyons comment cela fonctionne en pratique. Nous allons d'abord créer un autre mapper qui associe l'ID du film à son titre pour que nos résultats soient interprétables."
   ]
  },
  {
   "cell_type": "code",
   "execution_count": 72,
   "metadata": {},
   "outputs": [
    {
     "data": {
      "text/plain": [
       "[1270, 480, 356, 2571, 1580, 260, 1196, 1198, 3114]"
      ]
     },
     "execution_count": 72,
     "metadata": {},
     "output_type": "execute_result"
    }
   ],
   "source": [
    "similar_movies = find_similar_movies(1, X, movie_mapper, movie_inv_mapper, k=10)\n",
    "similar_movies"
   ]
  },
  {
   "cell_type": "markdown",
   "metadata": {},
   "source": [
    "find_similar_movies() renvoie une liste d'identifiants movieId qui sont les plus similaires au film qui vous intéresse. Convertissons ces identifiants en titres pour pouvoir interpréter nos résultats. Pour simplifier les choses, nous allons créer un dictionnaire qui associe chaque movieId à son title."
   ]
  },
  {
   "cell_type": "code",
   "execution_count": 77,
   "metadata": {},
   "outputs": [
    {
     "name": "stdout",
     "output_type": "stream",
     "text": [
      "Parce que vous avez regardé Toy Story (1995) :\n",
      "Back to the Future (1985)\n",
      "Jurassic Park (1993)\n",
      "Forrest Gump (1994)\n",
      "Matrix, The (1999)\n",
      "Men in Black (a.k.a. MIB) (1997)\n",
      "Star Wars: Episode IV - A New Hope (1977)\n",
      "Star Wars: Episode V - The Empire Strikes Back (1980)\n",
      "Raiders of the Lost Ark (Indiana Jones and the Raiders of the Lost Ark) (1981)\n",
      "Toy Story 2 (1999)\n"
     ]
    }
   ],
   "source": [
    "# Création d'un dictionnaire qui mappe les IDs de films aux titres correspondants\n",
    "movie_titles = dict(zip(movies['movieId'], movies['title']))\n",
    "\n",
    "# ID du film pour lequel on cherche des films similaires\n",
    "movie_id = 1\n",
    "\n",
    "# Appel de la fonction find_similar_movies avec la mesure de similarité 'cosine' et k=10\n",
    "similar_movies = find_similar_movies(movie_id, X, movie_mapper, movie_inv_mapper, metric='cosine', k=10)\n",
    "\n",
    "# Récupération du titre du film initial\n",
    "movie_title = movie_titles[movie_id]\n",
    "\n",
    "# Affichage du message d'introduction\n",
    "print(f\"Parce que vous avez regardé {movie_title} :\")\n",
    "\n",
    "# Affichage des titres des films similaires trouvés\n",
    "for movie_id in similar_movies:\n",
    "    print(movie_titles[movie_id])\n"
   ]
  },
  {
   "cell_type": "markdown",
   "metadata": {},
   "source": [
    "Les résultats ci-dessus montrent les 10 films les plus similaires à Toy Story. La plupart des films de cette liste sont des films familiaux des années 1990, ce qui semble raisonnable. Notez que ces recommandations sont basées uniquement sur les évaluations utilisateur-film. Les caractéristiques des films telles que les genres ne sont pas prises en compte dans cette approche."
   ]
  },
  {
   "cell_type": "markdown",
   "metadata": {},
   "source": [
    "Ainsi, après avoir obtenu les IDs des films similaires à un film donné à l'aide de find_similar_movies(), nous pouvons utiliser ce mapping pour afficher les titres des films recommandés plutôt que leurs IDs. Cela rend l'expérience utilisateur plus conviviale et facilite la prise de décision concernant les recommandations de films similaires."
   ]
  },
  {
   "cell_type": "markdown",
   "metadata": {},
   "source": [
    "\n",
    "  On peut essayer différentes mesures de distance dans l'algorithme des plus proches voisins (kNN) pour voir comment elles affectent les résultats des recommandations de films similaires. Par exemple, la distance \"manhattan\" et la distance \"euclidienne\" sont d'autres options que vous pouvez choisir pour calculer la similarité entre les films basée sur les évaluations des utilisateurs.\n",
    "\n",
    "\n",
    "\n",
    "\n",
    "\n"
   ]
  },
  {
   "cell_type": "code",
   "execution_count": 78,
   "metadata": {},
   "outputs": [
    {
     "name": "stdout",
     "output_type": "stream",
     "text": [
      "Parce que vous avez regardé Toy Story (1995) :\n",
      "Jurassic Park (1993)\n",
      "Men in Black (a.k.a. MIB) (1997)\n",
      "Back to the Future (1985)\n",
      "Toy Story 2 (1999)\n",
      "Forrest Gump (1994)\n",
      "E.T. the Extra-Terrestrial (1982)\n",
      "Lion King, The (1994)\n",
      "Ghostbusters (a.k.a. Ghost Busters) (1984)\n",
      "Star Wars: Episode VI - Return of the Jedi (1983)\n"
     ]
    }
   ],
   "source": [
    "movie_id = 1\n",
    "\n",
    "similar_movies = find_similar_movies(movie_id, X, movie_mapper, movie_inv_mapper, metric='euclidean', k=10)\n",
    "movie_title = movie_titles[movie_id]\n",
    "\n",
    "print(f\"Parce que vous avez regardé {movie_title} :\")\n",
    "for movie_id in similar_movies:\n",
    "    print(movie_titles[movie_id])\n"
   ]
  },
  {
   "cell_type": "markdown",
   "metadata": {},
   "source": [
    "Étape 6 : Gestion du problème de démarrage à froid\n",
    "Le filtrage collaboratif repose uniquement sur les interactions utilisateur-élément au sein de la matrice d'utilité. Le problème avec cette approche est que les nouveaux utilisateurs ou les éléments sans interaction sont exclus du système de recommandation. C'est ce qu'on appelle le problème de démarrage à froid. Le filtrage basé sur le contenu est une façon de résoudre ce problème en générant des recommandations basées sur les caractéristiques des utilisateurs et des éléments.\n",
    "\n",
    "Tout d'abord, nous devons convertir la colonne genres en caractéristiques binaires. Chaque genre aura sa propre colonne dans le dataframe, remplie de 0 ou de 1.\n",
    "\n",
    "\n",
    "\n",
    "\n",
    "\n"
   ]
  },
  {
   "cell_type": "code",
   "execution_count": 79,
   "metadata": {},
   "outputs": [
    {
     "name": "stdout",
     "output_type": "stream",
     "text": [
      "Il y a 27278 films uniques dans notre jeu de données de films.\n"
     ]
    }
   ],
   "source": [
    "n_movies = movies['movieId'].nunique()\n",
    "print(f\"Il y a {n_movies} films uniques dans notre jeu de données de films.\")\n"
   ]
  },
  {
   "cell_type": "code",
   "execution_count": 80,
   "metadata": {},
   "outputs": [],
   "source": [
    "# Crée un ensemble de tous les genres uniques à partir de la colonne 'genres'\n",
    "genres = set(g for G in movies['genres'] for g in G)\n",
    "\n",
    "# Pour chaque genre, crée une nouvelle colonne dans le dataframe movies\n",
    "for g in genres:\n",
    "    # Transforme la colonne 'genres' en une colonne binaire indiquant la présence du genre\n",
    "    movies[g] = movies.genres.transform(lambda x: int(g in x))\n",
    "    \n",
    "# Crée un nouveau dataframe 'movie_genres' sans les colonnes 'movieId', 'title', et 'genres'\n",
    "movie_genres = movies.drop(columns=['movieId', 'title','genres'])\n"
   ]
  },
  {
   "cell_type": "code",
   "execution_count": 81,
   "metadata": {},
   "outputs": [
    {
     "data": {
      "text/html": [
       "<div>\n",
       "<style scoped>\n",
       "    .dataframe tbody tr th:only-of-type {\n",
       "        vertical-align: middle;\n",
       "    }\n",
       "\n",
       "    .dataframe tbody tr th {\n",
       "        vertical-align: top;\n",
       "    }\n",
       "\n",
       "    .dataframe thead th {\n",
       "        text-align: right;\n",
       "    }\n",
       "</style>\n",
       "<table border=\"1\" class=\"dataframe\">\n",
       "  <thead>\n",
       "    <tr style=\"text-align: right;\">\n",
       "      <th></th>\n",
       "      <th>Romance</th>\n",
       "      <th>Mystery</th>\n",
       "      <th>Crime</th>\n",
       "      <th>Musical</th>\n",
       "      <th>Adventure</th>\n",
       "      <th>Animation</th>\n",
       "      <th>Horror</th>\n",
       "      <th>Thriller</th>\n",
       "      <th>Children</th>\n",
       "      <th>Comedy</th>\n",
       "      <th>Documentary</th>\n",
       "      <th>IMAX</th>\n",
       "      <th>Sci-Fi</th>\n",
       "      <th>Action</th>\n",
       "      <th>Film-Noir</th>\n",
       "      <th>Western</th>\n",
       "      <th>War</th>\n",
       "      <th>Fantasy</th>\n",
       "      <th>(no genres listed)</th>\n",
       "      <th>Drama</th>\n",
       "    </tr>\n",
       "  </thead>\n",
       "  <tbody>\n",
       "    <tr>\n",
       "      <th>0</th>\n",
       "      <td>0</td>\n",
       "      <td>0</td>\n",
       "      <td>0</td>\n",
       "      <td>0</td>\n",
       "      <td>1</td>\n",
       "      <td>1</td>\n",
       "      <td>0</td>\n",
       "      <td>0</td>\n",
       "      <td>1</td>\n",
       "      <td>1</td>\n",
       "      <td>0</td>\n",
       "      <td>0</td>\n",
       "      <td>0</td>\n",
       "      <td>0</td>\n",
       "      <td>0</td>\n",
       "      <td>0</td>\n",
       "      <td>0</td>\n",
       "      <td>1</td>\n",
       "      <td>0</td>\n",
       "      <td>0</td>\n",
       "    </tr>\n",
       "    <tr>\n",
       "      <th>1</th>\n",
       "      <td>0</td>\n",
       "      <td>0</td>\n",
       "      <td>0</td>\n",
       "      <td>0</td>\n",
       "      <td>1</td>\n",
       "      <td>0</td>\n",
       "      <td>0</td>\n",
       "      <td>0</td>\n",
       "      <td>1</td>\n",
       "      <td>0</td>\n",
       "      <td>0</td>\n",
       "      <td>0</td>\n",
       "      <td>0</td>\n",
       "      <td>0</td>\n",
       "      <td>0</td>\n",
       "      <td>0</td>\n",
       "      <td>0</td>\n",
       "      <td>1</td>\n",
       "      <td>0</td>\n",
       "      <td>0</td>\n",
       "    </tr>\n",
       "    <tr>\n",
       "      <th>2</th>\n",
       "      <td>1</td>\n",
       "      <td>0</td>\n",
       "      <td>0</td>\n",
       "      <td>0</td>\n",
       "      <td>0</td>\n",
       "      <td>0</td>\n",
       "      <td>0</td>\n",
       "      <td>0</td>\n",
       "      <td>0</td>\n",
       "      <td>1</td>\n",
       "      <td>0</td>\n",
       "      <td>0</td>\n",
       "      <td>0</td>\n",
       "      <td>0</td>\n",
       "      <td>0</td>\n",
       "      <td>0</td>\n",
       "      <td>0</td>\n",
       "      <td>0</td>\n",
       "      <td>0</td>\n",
       "      <td>0</td>\n",
       "    </tr>\n",
       "    <tr>\n",
       "      <th>3</th>\n",
       "      <td>1</td>\n",
       "      <td>0</td>\n",
       "      <td>0</td>\n",
       "      <td>0</td>\n",
       "      <td>0</td>\n",
       "      <td>0</td>\n",
       "      <td>0</td>\n",
       "      <td>0</td>\n",
       "      <td>0</td>\n",
       "      <td>1</td>\n",
       "      <td>0</td>\n",
       "      <td>0</td>\n",
       "      <td>0</td>\n",
       "      <td>0</td>\n",
       "      <td>0</td>\n",
       "      <td>0</td>\n",
       "      <td>0</td>\n",
       "      <td>0</td>\n",
       "      <td>0</td>\n",
       "      <td>1</td>\n",
       "    </tr>\n",
       "    <tr>\n",
       "      <th>4</th>\n",
       "      <td>0</td>\n",
       "      <td>0</td>\n",
       "      <td>0</td>\n",
       "      <td>0</td>\n",
       "      <td>0</td>\n",
       "      <td>0</td>\n",
       "      <td>0</td>\n",
       "      <td>0</td>\n",
       "      <td>0</td>\n",
       "      <td>1</td>\n",
       "      <td>0</td>\n",
       "      <td>0</td>\n",
       "      <td>0</td>\n",
       "      <td>0</td>\n",
       "      <td>0</td>\n",
       "      <td>0</td>\n",
       "      <td>0</td>\n",
       "      <td>0</td>\n",
       "      <td>0</td>\n",
       "      <td>0</td>\n",
       "    </tr>\n",
       "  </tbody>\n",
       "</table>\n",
       "</div>"
      ],
      "text/plain": [
       "   Romance  Mystery  Crime  Musical  Adventure  Animation  Horror  Thriller  \\\n",
       "0        0        0      0        0          1          1       0         0   \n",
       "1        0        0      0        0          1          0       0         0   \n",
       "2        1        0      0        0          0          0       0         0   \n",
       "3        1        0      0        0          0          0       0         0   \n",
       "4        0        0      0        0          0          0       0         0   \n",
       "\n",
       "   Children  Comedy  Documentary  IMAX  Sci-Fi  Action  Film-Noir  Western  \\\n",
       "0         1       1            0     0       0       0          0        0   \n",
       "1         1       0            0     0       0       0          0        0   \n",
       "2         0       1            0     0       0       0          0        0   \n",
       "3         0       1            0     0       0       0          0        0   \n",
       "4         0       1            0     0       0       0          0        0   \n",
       "\n",
       "   War  Fantasy  (no genres listed)  Drama  \n",
       "0    0        1                   0      0  \n",
       "1    0        1                   0      0  \n",
       "2    0        0                   0      0  \n",
       "3    0        0                   0      1  \n",
       "4    0        0                   0      0  "
      ]
     },
     "execution_count": 81,
     "metadata": {},
     "output_type": "execute_result"
    }
   ],
   "source": [
    "movie_genres.head()"
   ]
  },
  {
   "cell_type": "code",
   "execution_count": null,
   "metadata": {},
   "outputs": [],
   "source": []
  },
  {
   "cell_type": "code",
   "execution_count": 83,
   "metadata": {},
   "outputs": [
    {
     "name": "stdout",
     "output_type": "stream",
     "text": [
      "La dimension de la matrice de similarité cosinus entre les genres des films : (27278, 27278)\n"
     ]
    }
   ],
   "source": [
    "from sklearn.metrics.pairwise import cosine_similarity\n",
    "\n",
    "cosine_sim = cosine_similarity(movie_genres, movie_genres)\n",
    "print(f\"La dimension de la matrice de similarité cosinus entre les genres des films : {cosine_sim.shape}\")"
   ]
  },
  {
   "cell_type": "markdown",
   "metadata": {},
   "source": [
    "Cela signifie que notre matrice de similarité cosinus basée sur les genres des films a une dimension de 27278 par 27278. Chaque entrée de cette matrice représente la similarité cosinus entre deux films en fonction de leurs genres. Ainsi, chaque film est comparé à tous les autres films dans le dataset pour évaluer leur similitude basée sur les genres."
   ]
  },
  {
   "cell_type": "markdown",
   "metadata": {},
   "source": [
    "La dimension de la matrice de similarité cosinus entre les genres des films est de 27278× 27278\n",
    "parce qu'elle compare chaque film dans le dataset avec tous les autres films. Chaque film est représenté comme un vecteur binaire où chaque élément correspond à la présence ou non d'un genre spécifique. Ainsi, pour chaque paire de films, la matrice calcule la similarité cosinus entre leurs vecteurs de genres, produisant ainsi une matrice carrée  "
   ]
  },
  {
   "cell_type": "markdown",
   "metadata": {},
   "source": []
  },
  {
   "cell_type": "markdown",
   "metadata": {},
   "source": [
    "### Création d'une fonction de recherche de film\n",
    "\n",
    "Disons que nous voulons obtenir des recommandations pour des films similaires à Jumanji. Pour obtenir des résultats de notre système de recommandation, nous devons connaître le titre exact d'un film dans notre ensemble de données.\n",
    "\n",
    "Dans notre ensemble de données, Jumanji est en fait répertorié sous le titre 'Jumanji (1995)'. Si nous faisons une faute d'orthographe pour Jumanji ou oublions d'inclure son année de sortie, notre système de recommandation ne pourra pas identifier le film qui nous intéresse.\n",
    "\n",
    "Pour rendre notre système de recommandation plus convivial, nous pouvons utiliser un package Python appelé [fuzzywuzzy](https://pypi.org/project/fuzzywuzzy/) qui trouvera le titre le plus similaire à une chaîne que vous lui passez. Créons une fonction appelée `movie_finder()` qui tire parti de l'algorithme de correspondance de chaînes de fuzzywuzzy pour obtenir le titre le plus similaire à une chaîne entrée par l'utilisateur.\n"
   ]
  },
  {
   "cell_type": "code",
   "execution_count": 85,
   "metadata": {},
   "outputs": [
    {
     "name": "stderr",
     "output_type": "stream",
     "text": [
      "/Users/mouhamedtoure/anaconda3/envs/Flask_machinee_learning/lib/python3.11/site-packages/fuzzywuzzy/fuzz.py:11: UserWarning: Using slow pure-python SequenceMatcher. Install python-Levenshtein to remove this warning\n",
      "  warnings.warn('Using slow pure-python SequenceMatcher. Install python-Levenshtein to remove this warning')\n"
     ]
    }
   ],
   "source": [
    "from fuzzywuzzy import process\n",
    "\n",
    "def movie_finder(title):\n",
    "    all_titles = movies['title'].tolist()\n",
    "    closest_match = process.extractOne(title,all_titles)\n",
    "    return closest_match[0]"
   ]
  },
  {
   "cell_type": "markdown",
   "metadata": {},
   "source": [
    "Testons cela avec notre exemple de Lion King."
   ]
  },
  {
   "cell_type": "code",
   "execution_count": 86,
   "metadata": {},
   "outputs": [
    {
     "data": {
      "text/plain": [
       "'Lion King, The (1994)'"
      ]
     },
     "execution_count": 86,
     "metadata": {},
     "output_type": "execute_result"
    }
   ],
   "source": [
    "title = movie_finder('Lion King')\n",
    "title"
   ]
  },
  {
   "cell_type": "markdown",
   "metadata": {},
   "source": []
  },
  {
   "cell_type": "markdown",
   "metadata": {},
   "source": [
    "Pour obtenir des recommandations pertinentes pour Lion King, nous devons trouver son index dans la matrice de similarité cosinus.\n",
    "\n",
    " Pour identifier quelle ligne nous devons regarder, nous pouvons créer un dictionnaire d'index de films qui mappe un titre de film à l'indice qu'il représente dans notre matrice.\n",
    "\n",
    "Créons un dictionnaire d'index de films appelé movie_idx où les clés sont les titres des films et les valeurs sont les indices des films :"
   ]
  },
  {
   "cell_type": "code",
   "execution_count": 87,
   "metadata": {},
   "outputs": [
    {
     "name": "stdout",
     "output_type": "stream",
     "text": [
      "Movie index for Lion King: 360\n"
     ]
    }
   ],
   "source": [
    "movie_idx = dict(zip(movies['title'], list(movies.index)))\n",
    "idx = movie_idx[title]\n",
    "print(f\"Movie index for Lion King: {idx}\")"
   ]
  },
  {
   "cell_type": "markdown",
   "metadata": {},
   "source": [
    "En utilisant ce dictionnaire pratique movie_idx, nous savons que Lion King est représenté par l'indice 360 dans notre matrice. Obtenez maintenant les 10 films les plus similaires à Lion King.\n",
    "\n",
    "\n"
   ]
  },
  {
   "cell_type": "markdown",
   "metadata": {},
   "source": []
  },
  {
   "cell_type": "code",
   "execution_count": 88,
   "metadata": {},
   "outputs": [],
   "source": [
    "n_recommendations=10\n",
    "sim_scores = list(enumerate(cosine_sim[idx]))\n",
    "sim_scores = sorted(sim_scores, key=lambda x: x[1], reverse=True)\n",
    "sim_scores = sim_scores[1:(n_recommendations+1)]\n",
    "similar_movies = [i[0] for i in sim_scores]"
   ]
  },
  {
   "cell_type": "markdown",
   "metadata": {},
   "source": []
  },
  {
   "cell_type": "markdown",
   "metadata": {},
   "source": [
    "similar_movies est un tableau d'indices qui représente les 10 meilleures recommandations pour Jumanji. Nous pouvons obtenir les titres de films correspondants en créant un inverse du mapper movie_idx ou en utilisant iloc sur la colonne des titres du dataframe des films."
   ]
  },
  {
   "cell_type": "code",
   "execution_count": 89,
   "metadata": {},
   "outputs": [
    {
     "name": "stdout",
     "output_type": "stream",
     "text": [
      "Parce que vous avez regardez Lion King, The (1994):\n"
     ]
    },
    {
     "data": {
      "text/plain": [
       "1631                                      Anastasia (1997)\n",
       "871      Land Before Time III: The Time of the Great Gi...\n",
       "1010                                          Dumbo (1941)\n",
       "1011                                  Pete's Dragon (1977)\n",
       "2015                              Song of the South (1946)\n",
       "2055                            Secret of NIMH, The (1982)\n",
       "2601                                         Tarzan (1999)\n",
       "3072                                  Fantasia 2000 (1999)\n",
       "11349    Land Before Time II: The Great Valley Adventur...\n",
       "12941                            Fly Me to the Moon (2008)\n",
       "Name: title, dtype: object"
      ]
     },
     "execution_count": 89,
     "metadata": {},
     "output_type": "execute_result"
    }
   ],
   "source": [
    "print(f\"Parce que vous avez regardez {title}:\")\n",
    "movies['title'].iloc[similar_movies]"
   ]
  },
  {
   "cell_type": "markdown",
   "metadata": {},
   "source": [
    "Il est agréable de voir que les recommandations correspondent bien au genre et au thème de Jumanji. Les films familiaux des années 90 devraient certainement plaire aux fans de Lion King."
   ]
  },
  {
   "cell_type": "markdown",
   "metadata": {},
   "source": [
    "Nous pouvons tester notre système de recommandation avec d'autres titres de films. Pour votre commodité, regroupons les étapes dans une seule fonction qui prendra en entrée le titre du film d'intérêt et le nombre de recommandations souhaité.\n",
    "\n",
    "\n"
   ]
  },
  {
   "cell_type": "code",
   "execution_count": 90,
   "metadata": {},
   "outputs": [],
   "source": [
    "def get_content_based_recommendations(title_string, n_recommendations=10):\n",
    "    # Trouver le titre de film le plus proche correspondant\n",
    "    title = movie_finder(title_string)\n",
    "    \n",
    "    # Obtenir l'indice du film dans notre matrice de similarité cosinus\n",
    "    idx = movie_idx[title]\n",
    "    \n",
    "    # Calculer les scores de similarité cosinus entre le film et tous les autres films\n",
    "    sim_scores = list(enumerate(cosine_sim[idx]))\n",
    "    \n",
    "    # Trier les films en fonction des scores de similarité\n",
    "    sim_scores = sorted(sim_scores, key=lambda x: x[1], reverse=True)\n",
    "    \n",
    "    # Exclure le film lui-même et sélectionner les top n_recommendations\n",
    "    sim_scores = sim_scores[1:(n_recommendations+1)]\n",
    "    \n",
    "    # Extraire les indices des films recommandés\n",
    "    similar_movies = [i[0] for i in sim_scores]\n",
    "    \n",
    "    # Afficher les résultats de recommandation\n",
    "    print(f\"Parce que vous avez regardé {title} :\")\n",
    "    print(movies['title'].iloc[similar_movies])\n"
   ]
  },
  {
   "cell_type": "code",
   "execution_count": 98,
   "metadata": {},
   "outputs": [],
   "source": []
  },
  {
   "cell_type": "code",
   "execution_count": 91,
   "metadata": {},
   "outputs": [
    {
     "name": "stdout",
     "output_type": "stream",
     "text": [
      "Parce que vous avez regardé Toy Story (1995) :\n",
      "2209                                       Antz (1998)\n",
      "3027                                Toy Story 2 (1999)\n",
      "3663    Adventures of Rocky and Bullwinkle, The (2000)\n",
      "3922                  Emperor's New Groove, The (2000)\n",
      "4790                             Monsters, Inc. (2001)\n",
      "Name: title, dtype: object\n"
     ]
    }
   ],
   "source": [
    "get_content_based_recommendations('toy story', 5)"
   ]
  },
  {
   "cell_type": "markdown",
   "metadata": {},
   "source": [
    "Étape 7 : Réduction de la dimensionnalité avec la factorisation de matrices (avancée)\n",
    "La factorisation de matrices (MF) est une technique d'algèbre linéaire qui nous permet de découvrir des caractéristiques latentes sous-jacentes aux interactions entre utilisateurs et films. Ces caractéristiques latentes offrent une représentation plus compacte des goûts des utilisateurs et des descriptions des éléments. La MF est particulièrement utile pour les données très dispersées et peut améliorer la qualité des recommandations. L'algorithme fonctionne en factorisant la matrice utilisateur-élément d'origine en deux matrices de facteurs :\n",
    "\n",
    "Matrice de facteurs utilisateur (n_utilisateurs, k)\n",
    "Matrice de facteurs d'éléments (k, n_éléments)\n",
    "Nous réduisons les dimensions de notre matrice d'origine en dimensions \"de goût\". Nous ne pouvons pas interpréter ce que représente chaque caractéristique latente $k$. Cependant, nous pourrions imaginer qu'une caractéristique latente pourrait représenter des utilisateurs qui aiment les comédies romantiques des années 1990, tandis qu'une autre caractéristique latente pourrait représenter des films indépendants en langue étrangère.\n",
    "\n",
    "\n",
    "\n",
    "\n",
    "\n"
   ]
  },
  {
   "cell_type": "code",
   "execution_count": null,
   "metadata": {},
   "outputs": [],
   "source": []
  },
  {
   "cell_type": "code",
   "execution_count": 92,
   "metadata": {},
   "outputs": [
    {
     "data": {
      "text/plain": [
       "(3912, 20)"
      ]
     },
     "execution_count": 92,
     "metadata": {},
     "output_type": "execute_result"
    }
   ],
   "source": [
    "from sklearn.decomposition import TruncatedSVD\n",
    "\n",
    "svd = TruncatedSVD(n_components=20, n_iter=10)\n",
    "Q = svd.fit_transform(X.T)\n",
    "Q.shape\n"
   ]
  },
  {
   "cell_type": "markdown",
   "metadata": {},
   "source": [
    "Ce code initialise TruncatedSVD avec 20 composants et 10 itérations. Ensuite, il ajuste et transforme la transposée de la matrice X\n",
    "ce qui donne la matrice Q\n",
    "qui capture la matrice de facteurs des items avec des dimensions réduites. La forme de Q\n",
    "reflétera le nombre d'items (9724 dans votre cas) et le nombre de composants spécifiés (20 dans cet exemple)."
   ]
  },
  {
   "cell_type": "code",
   "execution_count": 93,
   "metadata": {},
   "outputs": [
    {
     "name": "stdout",
     "output_type": "stream",
     "text": [
      "Parce que vous avez regarde Toy Story (1995):\n",
      "Back to the Future (1985)\n",
      "Jurassic Park (1993)\n",
      "Men in Black (a.k.a. MIB) (1997)\n",
      "Aladdin (1992)\n",
      "E.T. the Extra-Terrestrial (1982)\n",
      "Bug's Life, A (1998)\n",
      "Toy Story 2 (1999)\n",
      "Lion King, The (1994)\n",
      "Groundhog Day (1993)\n"
     ]
    }
   ],
   "source": [
    "movie_id = 1\n",
    "similar_movies = find_similar_movies(movie_id, Q.T, movie_mapper, movie_inv_mapper, metric='cosine', k=10)\n",
    "movie_title = movie_titles[movie_id]\n",
    "\n",
    "print(f\"Parce que vous avez regarde {movie_title}:\")\n",
    "for i in similar_movies:\n",
    "    print(movie_titles[i])"
   ]
  },
  {
   "cell_type": "markdown",
   "metadata": {},
   "source": [
    "Les résultats ci-dessus montrent les films les plus similaires à Toy Story en utilisant kNN sur notre matrice de facteurs de films \"compressée\". Nous avons réduit les dimensions à n_components=20. Chaque composant peut être considéré comme représentant une caractéristique latente, comme le genre du film ou d'autres caractéristiques sous-jacentes."
   ]
  },
  {
   "cell_type": "code",
   "execution_count": null,
   "metadata": {},
   "outputs": [],
   "source": []
  },
  {
   "cell_type": "code",
   "execution_count": 120,
   "metadata": {},
   "outputs": [],
   "source": [
    "import pickle\n",
    "import numpy as np\n",
    "\n",
    "\n",
    "\n",
    "# Sauvegarde les fichiers pickle\n",
    "with open('movies.pkl', 'wb') as f:\n",
    "    pickle.dump(movies, f)\n",
    "\n",
    "with open('similarity.pkl', 'wb') as f:\n",
    "    pickle.dump({'X': X, 'movie_mapper': movie_mapper, 'movie_inv_mapper': movie_inv_mapper}, f)\n"
   ]
  },
  {
   "cell_type": "code",
   "execution_count": 121,
   "metadata": {},
   "outputs": [
    {
     "data": {
      "text/html": [
       "<div>\n",
       "<style scoped>\n",
       "    .dataframe tbody tr th:only-of-type {\n",
       "        vertical-align: middle;\n",
       "    }\n",
       "\n",
       "    .dataframe tbody tr th {\n",
       "        vertical-align: top;\n",
       "    }\n",
       "\n",
       "    .dataframe thead th {\n",
       "        text-align: right;\n",
       "    }\n",
       "</style>\n",
       "<table border=\"1\" class=\"dataframe\">\n",
       "  <thead>\n",
       "    <tr style=\"text-align: right;\">\n",
       "      <th></th>\n",
       "      <th>movieId</th>\n",
       "      <th>title</th>\n",
       "      <th>genres</th>\n",
       "      <th>Romance</th>\n",
       "      <th>Mystery</th>\n",
       "      <th>Crime</th>\n",
       "      <th>Musical</th>\n",
       "      <th>Adventure</th>\n",
       "      <th>Animation</th>\n",
       "      <th>Horror</th>\n",
       "      <th>...</th>\n",
       "      <th>Documentary</th>\n",
       "      <th>IMAX</th>\n",
       "      <th>Sci-Fi</th>\n",
       "      <th>Action</th>\n",
       "      <th>Film-Noir</th>\n",
       "      <th>Western</th>\n",
       "      <th>War</th>\n",
       "      <th>Fantasy</th>\n",
       "      <th>(no genres listed)</th>\n",
       "      <th>Drama</th>\n",
       "    </tr>\n",
       "  </thead>\n",
       "  <tbody>\n",
       "    <tr>\n",
       "      <th>0</th>\n",
       "      <td>1</td>\n",
       "      <td>Toy Story (1995)</td>\n",
       "      <td>[Adventure, Animation, Children, Comedy, Fantasy]</td>\n",
       "      <td>0</td>\n",
       "      <td>0</td>\n",
       "      <td>0</td>\n",
       "      <td>0</td>\n",
       "      <td>1</td>\n",
       "      <td>1</td>\n",
       "      <td>0</td>\n",
       "      <td>...</td>\n",
       "      <td>0</td>\n",
       "      <td>0</td>\n",
       "      <td>0</td>\n",
       "      <td>0</td>\n",
       "      <td>0</td>\n",
       "      <td>0</td>\n",
       "      <td>0</td>\n",
       "      <td>1</td>\n",
       "      <td>0</td>\n",
       "      <td>0</td>\n",
       "    </tr>\n",
       "    <tr>\n",
       "      <th>1</th>\n",
       "      <td>2</td>\n",
       "      <td>Jumanji (1995)</td>\n",
       "      <td>[Adventure, Children, Fantasy]</td>\n",
       "      <td>0</td>\n",
       "      <td>0</td>\n",
       "      <td>0</td>\n",
       "      <td>0</td>\n",
       "      <td>1</td>\n",
       "      <td>0</td>\n",
       "      <td>0</td>\n",
       "      <td>...</td>\n",
       "      <td>0</td>\n",
       "      <td>0</td>\n",
       "      <td>0</td>\n",
       "      <td>0</td>\n",
       "      <td>0</td>\n",
       "      <td>0</td>\n",
       "      <td>0</td>\n",
       "      <td>1</td>\n",
       "      <td>0</td>\n",
       "      <td>0</td>\n",
       "    </tr>\n",
       "    <tr>\n",
       "      <th>2</th>\n",
       "      <td>3</td>\n",
       "      <td>Grumpier Old Men (1995)</td>\n",
       "      <td>[Comedy, Romance]</td>\n",
       "      <td>1</td>\n",
       "      <td>0</td>\n",
       "      <td>0</td>\n",
       "      <td>0</td>\n",
       "      <td>0</td>\n",
       "      <td>0</td>\n",
       "      <td>0</td>\n",
       "      <td>...</td>\n",
       "      <td>0</td>\n",
       "      <td>0</td>\n",
       "      <td>0</td>\n",
       "      <td>0</td>\n",
       "      <td>0</td>\n",
       "      <td>0</td>\n",
       "      <td>0</td>\n",
       "      <td>0</td>\n",
       "      <td>0</td>\n",
       "      <td>0</td>\n",
       "    </tr>\n",
       "    <tr>\n",
       "      <th>3</th>\n",
       "      <td>4</td>\n",
       "      <td>Waiting to Exhale (1995)</td>\n",
       "      <td>[Comedy, Drama, Romance]</td>\n",
       "      <td>1</td>\n",
       "      <td>0</td>\n",
       "      <td>0</td>\n",
       "      <td>0</td>\n",
       "      <td>0</td>\n",
       "      <td>0</td>\n",
       "      <td>0</td>\n",
       "      <td>...</td>\n",
       "      <td>0</td>\n",
       "      <td>0</td>\n",
       "      <td>0</td>\n",
       "      <td>0</td>\n",
       "      <td>0</td>\n",
       "      <td>0</td>\n",
       "      <td>0</td>\n",
       "      <td>0</td>\n",
       "      <td>0</td>\n",
       "      <td>1</td>\n",
       "    </tr>\n",
       "    <tr>\n",
       "      <th>4</th>\n",
       "      <td>5</td>\n",
       "      <td>Father of the Bride Part II (1995)</td>\n",
       "      <td>[Comedy]</td>\n",
       "      <td>0</td>\n",
       "      <td>0</td>\n",
       "      <td>0</td>\n",
       "      <td>0</td>\n",
       "      <td>0</td>\n",
       "      <td>0</td>\n",
       "      <td>0</td>\n",
       "      <td>...</td>\n",
       "      <td>0</td>\n",
       "      <td>0</td>\n",
       "      <td>0</td>\n",
       "      <td>0</td>\n",
       "      <td>0</td>\n",
       "      <td>0</td>\n",
       "      <td>0</td>\n",
       "      <td>0</td>\n",
       "      <td>0</td>\n",
       "      <td>0</td>\n",
       "    </tr>\n",
       "  </tbody>\n",
       "</table>\n",
       "<p>5 rows × 23 columns</p>\n",
       "</div>"
      ],
      "text/plain": [
       "   movieId                               title  \\\n",
       "0        1                    Toy Story (1995)   \n",
       "1        2                      Jumanji (1995)   \n",
       "2        3             Grumpier Old Men (1995)   \n",
       "3        4            Waiting to Exhale (1995)   \n",
       "4        5  Father of the Bride Part II (1995)   \n",
       "\n",
       "                                              genres  Romance  Mystery  Crime  \\\n",
       "0  [Adventure, Animation, Children, Comedy, Fantasy]        0        0      0   \n",
       "1                     [Adventure, Children, Fantasy]        0        0      0   \n",
       "2                                  [Comedy, Romance]        1        0      0   \n",
       "3                           [Comedy, Drama, Romance]        1        0      0   \n",
       "4                                           [Comedy]        0        0      0   \n",
       "\n",
       "   Musical  Adventure  Animation  Horror  ...  Documentary  IMAX  Sci-Fi  \\\n",
       "0        0          1          1       0  ...            0     0       0   \n",
       "1        0          1          0       0  ...            0     0       0   \n",
       "2        0          0          0       0  ...            0     0       0   \n",
       "3        0          0          0       0  ...            0     0       0   \n",
       "4        0          0          0       0  ...            0     0       0   \n",
       "\n",
       "   Action  Film-Noir  Western  War  Fantasy  (no genres listed)  Drama  \n",
       "0       0          0        0    0        1                   0      0  \n",
       "1       0          0        0    0        1                   0      0  \n",
       "2       0          0        0    0        0                   0      0  \n",
       "3       0          0        0    0        0                   0      1  \n",
       "4       0          0        0    0        0                   0      0  \n",
       "\n",
       "[5 rows x 23 columns]"
      ]
     },
     "execution_count": 121,
     "metadata": {},
     "output_type": "execute_result"
    }
   ],
   "source": [
    "movies.head()"
   ]
  },
  {
   "cell_type": "markdown",
   "metadata": {},
   "source": []
  }
 ],
 "metadata": {
  "kernelspec": {
   "display_name": "Flask_machinee_learning",
   "language": "python",
   "name": "python3"
  },
  "language_info": {
   "codemirror_mode": {
    "name": "ipython",
    "version": 3
   },
   "file_extension": ".py",
   "mimetype": "text/x-python",
   "name": "python",
   "nbconvert_exporter": "python",
   "pygments_lexer": "ipython3",
   "version": "3.11.7"
  }
 },
 "nbformat": 4,
 "nbformat_minor": 2
}
